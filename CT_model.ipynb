{
 "cells": [
  {
   "cell_type": "markdown",
   "metadata": {},
   "source": [
    "## unimodal deep neural network for survival prediction based on CT scans "
   ]
  },
  {
   "cell_type": "code",
   "execution_count": 7,
   "metadata": {},
   "outputs": [],
   "source": [
    "#First We Need to look at the data\n",
    "import pandas as pd\n",
    "import pydicom as pdc"
   ]
  },
  {
   "cell_type": "code",
   "execution_count": 2,
   "metadata": {},
   "outputs": [],
   "source": [
    "#Importing the metada for the CT images\n",
    "\n",
    "metadata = pd.read_csv(\"/home/anders/Phd_Interview_project_dataset/metadata.csv\")\n",
    "pd.set_option('display.max_columns', None)"
   ]
  },
  {
   "cell_type": "code",
   "execution_count": 6,
   "metadata": {},
   "outputs": [
    {
     "name": "stdout",
     "output_type": "stream",
     "text": [
      "197\n"
     ]
    }
   ],
   "source": [
    "#Sort the metadata by how many actual CT images there were \n",
    "possible_values = [\"CT\"]\n",
    "mask = metadata[\"Modality\"].isin(possible_values)\n",
    "CT_img_num = metadata[mask].index.tolist()\n",
    "print(len(CT_img_num))"
   ]
  },
  {
   "cell_type": "code",
   "execution_count": 18,
   "metadata": {},
   "outputs": [
    {
     "name": "stdout",
     "output_type": "stream",
     "text": [
      "['Series UID', 'Collection', '3rd Party Analysis', 'Data Description URI', 'Study UID', 'Study Description', 'Study Date', 'Series Description', 'Manufacturer', 'Modality', 'SOP Class Name', 'SOP Class UID', 'Number of Images', 'File Size', 'File Location', 'Download Timestamp']\n"
     ]
    }
   ],
   "source": [
    "print(metadata.columns.tolist())"
   ]
  },
  {
   "cell_type": "code",
   "execution_count": null,
   "metadata": {},
   "outputs": [],
   "source": [
    "def Get_Patient_SEG(df, patient_ID):\n",
    "    return df.loc[(df[patient_ID]) & (df['modality'] == \"SEG\")]"
   ]
  },
  {
   "cell_type": "code",
   "execution_count": 26,
   "metadata": {},
   "outputs": [
    {
     "data": {
      "text/html": [
       "<div>\n",
       "<style scoped>\n",
       "    .dataframe tbody tr th:only-of-type {\n",
       "        vertical-align: middle;\n",
       "    }\n",
       "\n",
       "    .dataframe tbody tr th {\n",
       "        vertical-align: top;\n",
       "    }\n",
       "\n",
       "    .dataframe thead th {\n",
       "        text-align: right;\n",
       "    }\n",
       "</style>\n",
       "<table border=\"1\" class=\"dataframe\">\n",
       "  <thead>\n",
       "    <tr style=\"text-align: right;\">\n",
       "      <th></th>\n",
       "      <th>Series UID</th>\n",
       "      <th>Collection</th>\n",
       "      <th>3rd Party Analysis</th>\n",
       "      <th>Data Description URI</th>\n",
       "      <th>Study UID</th>\n",
       "      <th>Study Description</th>\n",
       "      <th>Study Date</th>\n",
       "      <th>Series Description</th>\n",
       "      <th>Manufacturer</th>\n",
       "      <th>Modality</th>\n",
       "      <th>SOP Class Name</th>\n",
       "      <th>SOP Class UID</th>\n",
       "      <th>Number of Images</th>\n",
       "      <th>File Size</th>\n",
       "      <th>File Location</th>\n",
       "      <th>Download Timestamp</th>\n",
       "    </tr>\n",
       "    <tr>\n",
       "      <th>Subject ID</th>\n",
       "      <th></th>\n",
       "      <th></th>\n",
       "      <th></th>\n",
       "      <th></th>\n",
       "      <th></th>\n",
       "      <th></th>\n",
       "      <th></th>\n",
       "      <th></th>\n",
       "      <th></th>\n",
       "      <th></th>\n",
       "      <th></th>\n",
       "      <th></th>\n",
       "      <th></th>\n",
       "      <th></th>\n",
       "      <th></th>\n",
       "      <th></th>\n",
       "    </tr>\n",
       "  </thead>\n",
       "  <tbody>\n",
       "    <tr>\n",
       "      <th>CRLM-CT-1001</th>\n",
       "      <td>1.3.6.1.4.1.14519.5.2.1.9203.8273.370971589400...</td>\n",
       "      <td>Colorectal-Liver-Metastases</td>\n",
       "      <td>NO</td>\n",
       "      <td>https://doi.org/10.7937/QXK2QG03</td>\n",
       "      <td>1.3.6.1.4.1.14519.5.2.1.9203.8273.123231034424...</td>\n",
       "      <td>CT ANGIO ABD WITH PEL</td>\n",
       "      <td>06-06-1992</td>\n",
       "      <td>Segmentation</td>\n",
       "      <td>QIICR</td>\n",
       "      <td>SEG</td>\n",
       "      <td>Segmentation Storage</td>\n",
       "      <td>1.2.840.10008.5.1.4.1.1.66.4</td>\n",
       "      <td>1</td>\n",
       "      <td>14.65 MB</td>\n",
       "      <td>./Colorectal-Liver-Metastases/CRLM-CT-1001/06-...</td>\n",
       "      <td>2024-03-08T13:22:43.372</td>\n",
       "    </tr>\n",
       "    <tr>\n",
       "      <th>CRLM-CT-1001</th>\n",
       "      <td>1.3.6.1.4.1.14519.5.2.1.9203.8273.533669585389...</td>\n",
       "      <td>Colorectal-Liver-Metastases</td>\n",
       "      <td>NO</td>\n",
       "      <td>https://doi.org/10.7937/QXK2QG03</td>\n",
       "      <td>1.3.6.1.4.1.14519.5.2.1.9203.8273.123231034424...</td>\n",
       "      <td>CT ANGIO ABD WITH PEL</td>\n",
       "      <td>06-06-1992</td>\n",
       "      <td>NaN</td>\n",
       "      <td>GE MEDICAL SYSTEMS</td>\n",
       "      <td>CT</td>\n",
       "      <td>CT Image Storage</td>\n",
       "      <td>1.2.840.10008.5.1.4.1.1.2</td>\n",
       "      <td>161</td>\n",
       "      <td>84.84 MB</td>\n",
       "      <td>./Colorectal-Liver-Metastases/CRLM-CT-1001/06-...</td>\n",
       "      <td>2024-03-08T13:22:56.023</td>\n",
       "    </tr>\n",
       "  </tbody>\n",
       "</table>\n",
       "</div>"
      ],
      "text/plain": [
       "                                                     Series UID   \n",
       "Subject ID                                                        \n",
       "CRLM-CT-1001  1.3.6.1.4.1.14519.5.2.1.9203.8273.370971589400...  \\\n",
       "CRLM-CT-1001  1.3.6.1.4.1.14519.5.2.1.9203.8273.533669585389...   \n",
       "\n",
       "                               Collection 3rd Party Analysis   \n",
       "Subject ID                                                     \n",
       "CRLM-CT-1001  Colorectal-Liver-Metastases                 NO  \\\n",
       "CRLM-CT-1001  Colorectal-Liver-Metastases                 NO   \n",
       "\n",
       "                          Data Description URI   \n",
       "Subject ID                                       \n",
       "CRLM-CT-1001  https://doi.org/10.7937/QXK2QG03  \\\n",
       "CRLM-CT-1001  https://doi.org/10.7937/QXK2QG03   \n",
       "\n",
       "                                                      Study UID   \n",
       "Subject ID                                                        \n",
       "CRLM-CT-1001  1.3.6.1.4.1.14519.5.2.1.9203.8273.123231034424...  \\\n",
       "CRLM-CT-1001  1.3.6.1.4.1.14519.5.2.1.9203.8273.123231034424...   \n",
       "\n",
       "                  Study Description  Study Date Series Description   \n",
       "Subject ID                                                           \n",
       "CRLM-CT-1001  CT ANGIO ABD WITH PEL  06-06-1992       Segmentation  \\\n",
       "CRLM-CT-1001  CT ANGIO ABD WITH PEL  06-06-1992                NaN   \n",
       "\n",
       "                    Manufacturer Modality        SOP Class Name   \n",
       "Subject ID                                                        \n",
       "CRLM-CT-1001               QIICR      SEG  Segmentation Storage  \\\n",
       "CRLM-CT-1001  GE MEDICAL SYSTEMS       CT      CT Image Storage   \n",
       "\n",
       "                             SOP Class UID  Number of Images File Size   \n",
       "Subject ID                                                               \n",
       "CRLM-CT-1001  1.2.840.10008.5.1.4.1.1.66.4                 1  14.65 MB  \\\n",
       "CRLM-CT-1001     1.2.840.10008.5.1.4.1.1.2               161  84.84 MB   \n",
       "\n",
       "                                                  File Location   \n",
       "Subject ID                                                        \n",
       "CRLM-CT-1001  ./Colorectal-Liver-Metastases/CRLM-CT-1001/06-...  \\\n",
       "CRLM-CT-1001  ./Colorectal-Liver-Metastases/CRLM-CT-1001/06-...   \n",
       "\n",
       "                   Download Timestamp  \n",
       "Subject ID                             \n",
       "CRLM-CT-1001  2024-03-08T13:22:43.372  \n",
       "CRLM-CT-1001  2024-03-08T13:22:56.023  "
      ]
     },
     "execution_count": 26,
     "metadata": {},
     "output_type": "execute_result"
    }
   ],
   "source": [
    "metadata.loc[\"CRLM-CT-1001\"].isin()"
   ]
  },
  {
   "cell_type": "code",
   "execution_count": 17,
   "metadata": {},
   "outputs": [
    {
     "ename": "KeyError",
     "evalue": "\"None of ['Subject ID'] are in the columns\"",
     "output_type": "error",
     "traceback": [
      "\u001b[0;31m---------------------------------------------------------------------------\u001b[0m",
      "\u001b[0;31mKeyError\u001b[0m                                  Traceback (most recent call last)",
      "Cell \u001b[0;32mIn[17], line 6\u001b[0m\n\u001b[1;32m      3\u001b[0m \u001b[38;5;66;03m# Choosing patient CRLM-CT-1001\tas my experimentation patient. \u001b[39;00m\n\u001b[1;32m      4\u001b[0m Patient_ID \u001b[38;5;241m=\u001b[39m \u001b[38;5;124m\"\u001b[39m\u001b[38;5;124mCRLM-CT-1001\u001b[39m\u001b[38;5;124m\"\u001b[39m\n\u001b[0;32m----> 6\u001b[0m \u001b[43mmetadata\u001b[49m\u001b[38;5;241;43m.\u001b[39;49m\u001b[43mset_index\u001b[49m\u001b[43m(\u001b[49m\u001b[38;5;124;43m'\u001b[39;49m\u001b[38;5;124;43mSubject ID\u001b[39;49m\u001b[38;5;124;43m'\u001b[39;49m\u001b[43m,\u001b[49m\u001b[43m \u001b[49m\u001b[43minplace\u001b[49m\u001b[38;5;241;43m=\u001b[39;49m\u001b[38;5;28;43;01mTrue\u001b[39;49;00m\u001b[43m)\u001b[49m\n\u001b[1;32m      8\u001b[0m Patient_info \u001b[38;5;241m=\u001b[39m metadata\u001b[38;5;241m.\u001b[39mloc(Patient_ID)\n\u001b[1;32m     10\u001b[0m display(Patient_info)\n",
      "File \u001b[0;32m~/.local/lib/python3.10/site-packages/pandas/core/frame.py:5867\u001b[0m, in \u001b[0;36mDataFrame.set_index\u001b[0;34m(self, keys, drop, append, inplace, verify_integrity)\u001b[0m\n\u001b[1;32m   5864\u001b[0m                 missing\u001b[38;5;241m.\u001b[39mappend(col)\n\u001b[1;32m   5866\u001b[0m \u001b[38;5;28;01mif\u001b[39;00m missing:\n\u001b[0;32m-> 5867\u001b[0m     \u001b[38;5;28;01mraise\u001b[39;00m \u001b[38;5;167;01mKeyError\u001b[39;00m(\u001b[38;5;124mf\u001b[39m\u001b[38;5;124m\"\u001b[39m\u001b[38;5;124mNone of \u001b[39m\u001b[38;5;132;01m{\u001b[39;00mmissing\u001b[38;5;132;01m}\u001b[39;00m\u001b[38;5;124m are in the columns\u001b[39m\u001b[38;5;124m\"\u001b[39m)\n\u001b[1;32m   5869\u001b[0m \u001b[38;5;28;01mif\u001b[39;00m inplace:\n\u001b[1;32m   5870\u001b[0m     frame \u001b[38;5;241m=\u001b[39m \u001b[38;5;28mself\u001b[39m\n",
      "\u001b[0;31mKeyError\u001b[0m: \"None of ['Subject ID'] are in the columns\""
     ]
    }
   ],
   "source": [
    "metadata.head()\n",
    "\n",
    "# Choosing patient CRLM-CT-1001\tas my experimentation patient. \n",
    "Patient_ID = \"CRLM-CT-1001\"\n",
    "\n",
    "metadata.set_index('Subject ID', inplace=True)\n",
    "\n",
    "Patient_info = metadata.loc(Patient_ID)\n",
    "\n",
    "display(Patient_info)"
   ]
  },
  {
   "cell_type": "markdown",
   "metadata": {},
   "source": []
  },
  {
   "cell_type": "code",
   "execution_count": null,
   "metadata": {},
   "outputs": [],
   "source": []
  }
 ],
 "metadata": {
  "kernelspec": {
   "display_name": "Python 3",
   "language": "python",
   "name": "python3"
  },
  "language_info": {
   "codemirror_mode": {
    "name": "ipython",
    "version": 3
   },
   "file_extension": ".py",
   "mimetype": "text/x-python",
   "name": "python",
   "nbconvert_exporter": "python",
   "pygments_lexer": "ipython3",
   "version": "3.10.12"
  }
 },
 "nbformat": 4,
 "nbformat_minor": 2
}
