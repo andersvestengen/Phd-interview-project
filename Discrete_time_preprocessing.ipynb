{
 "cells": [
  {
   "cell_type": "markdown",
   "metadata": {},
   "source": [
    "### Goals  \n",
    "    1. Load the clinical variables\n",
    "    2. Process the data as a pandas dataframe\n",
    "    3. Research SurvhShap, speficially what kind of data it expects.\n",
    "    4. Create m parameter-cuts of the data as equidistant\n",
    "    5. Implement an event-sorting algorithm based on the cuts and events.\n",
    "    6. Finish processing the data so its ready for training\n",
    "    7. Setup a network alongside the binary-cross-loss (sigmoid on the network output).\n",
    "    8. Implement a function to create survival function for the chosen slices (0, m)\n",
    "    9. Plot survival for five individuals\n",
    "    10. plot accuracy\n",
    "    11. attempt C-index or Brier score on the network outputs."
   ]
  },
  {
   "cell_type": "markdown",
   "metadata": {},
   "source": []
  }
 ],
 "metadata": {
  "language_info": {
   "name": "python"
  }
 },
 "nbformat": 4,
 "nbformat_minor": 2
}
